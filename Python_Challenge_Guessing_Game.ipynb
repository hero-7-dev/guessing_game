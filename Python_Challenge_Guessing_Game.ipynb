{
  "nbformat": 4,
  "nbformat_minor": 0,
  "metadata": {
    "kernelspec": {
      "display_name": "Python 3",
      "language": "python",
      "name": "python3"
    },
    "language_info": {
      "codemirror_mode": {
        "name": "ipython",
        "version": 3
      },
      "file_extension": ".py",
      "mimetype": "text/x-python",
      "name": "python",
      "nbconvert_exporter": "python",
      "pygments_lexer": "ipython3",
      "version": "3.6.2"
    },
    "colab": {
      "name": "Python_Challenge_Guessing_Game.ipynb",
      "provenance": [],
      "collapsed_sections": []
    }
  },
  "cells": [
    {
      "cell_type": "markdown",
      "metadata": {
        "id": "NQuOyznPahpH"
      },
      "source": [
        "# Guessing Game Challenge\n",
        "\n",
        "Let's use `while` loops to create a guessing game.\n",
        "\n",
        "The Challenge:\n",
        "\n",
        "Write a program that picks a random integer from 1 to 100, and has players guess the number. The rules are:\n",
        "\n",
        "1. If a player's guess is less than 1 or greater than 100, say \"OUT OF BOUNDS\"\n",
        "\n",
        "2. On all turns, if a guess is \n",
        " * closer to the number than the previous guess return \"Closer!\"\n",
        " * farther from the number than the previous guess, return \"Farther!\"\n",
        "3. When the player's guess equals the number, tell them they've guessed correctly *and* how many guesses it took!\n",
        "\n",
        "Now Lets o fro the Steps!"
      ]
    },
    {
      "cell_type": "markdown",
      "metadata": {
        "id": "6K7SSiaEahpK"
      },
      "source": [
        "#### First, Build a Line of Code that can Return arandom integer from 1 to 100 and store this number in object called Actual"
      ]
    },
    {
      "cell_type": "code",
      "metadata": {
        "id": "8R7ayXGwahpL",
        "colab": {
          "base_uri": "https://localhost:8080/"
        },
        "outputId": "c9e125ee-6aec-4a11-bf17-0c36043afec0"
      },
      "source": [
        "#Type Your Code Here  - Replace None with Correct  Function  \n",
        "from random import randint\n",
        "\n",
        "Actual =randint(1,100)  \n",
        "print(Actual)"
      ],
      "execution_count": 1,
      "outputs": [
        {
          "output_type": "stream",
          "text": [
            "77\n"
          ],
          "name": "stdout"
        }
      ]
    },
    {
      "cell_type": "code",
      "metadata": {
        "id": "mMsepsAdBZ2x"
      },
      "source": [
        ""
      ],
      "execution_count": null,
      "outputs": []
    },
    {
      "cell_type": "markdown",
      "metadata": {
        "id": "la65uFUjahpO"
      },
      "source": [
        "#### Next, build a Code to display an introduction to the Game to tell the user the Boundaries from 1 to 100 and what is his target."
      ]
    },
    {
      "cell_type": "code",
      "metadata": {
        "id": "cpMGPRNT7F-J",
        "colab": {
          "base_uri": "https://localhost:8080/"
        },
        "outputId": "1abc87b9-e666-492c-e54a-35d8a27ec627"
      },
      "source": [
        "#Type Your Code here \n",
        "num=input('Welcom Please enter Number From 1 To 100')"
      ],
      "execution_count": 2,
      "outputs": [
        {
          "output_type": "stream",
          "text": [
            "Welcom Please enter Number From 1 To 10020\n"
          ],
          "name": "stdout"
        }
      ]
    },
    {
      "cell_type": "markdown",
      "metadata": {
        "id": "GyW_z6Sf74yG"
      },
      "source": [
        "### Next, Build a Code that takes an integer input from the user "
      ]
    },
    {
      "cell_type": "code",
      "metadata": {
        "id": "UZCNvK4o82k-",
        "colab": {
          "base_uri": "https://localhost:8080/"
        },
        "outputId": "53d07cb6-8e41-4929-a50f-1ef48d1abf42"
      },
      "source": [
        "#Type Your Code Here - Replace None With Correct Function \n",
        "Guess=int(num) \n",
        "Guess\n"
      ],
      "execution_count": 4,
      "outputs": [
        {
          "output_type": "execute_result",
          "data": {
            "text/plain": [
              "20"
            ]
          },
          "metadata": {
            "tags": []
          },
          "execution_count": 4
        }
      ]
    },
    {
      "cell_type": "markdown",
      "metadata": {
        "id": "BHsh0slo834l"
      },
      "source": [
        "### Next, Put the Upper Cell in A Loop that keeps checking if the Number is Out of Bounds or Not  "
      ]
    },
    {
      "cell_type": "code",
      "metadata": {
        "id": "Xx00D-J89xsk"
      },
      "source": [
        "#Replace None Values with correct conditions or Booleans\n",
        "count = 0\n",
        "while 2>1:\n",
        "  # Take input from user \n",
        "  if   Guess in range(1,100)  :\n",
        "    break\n",
        "   # if right then print something\n",
        "  else :\n",
        "   print('Out of Bounds')\n",
        "   continue\n",
        "count +=1\n",
        "  #and if not print another thing \n"
      ],
      "execution_count": 11,
      "outputs": []
    },
    {
      "cell_type": "markdown",
      "metadata": {
        "id": "d-USlvx8dNak"
      },
      "source": [
        "### Next, Build a Code that Check if the Guess is equal to the Actual Random Number"
      ]
    },
    {
      "cell_type": "code",
      "metadata": {
        "id": "E95mJnFNdfiW"
      },
      "source": [
        "guesses= [] #Make it an Empty List \n",
        "#Change None to Correct Boolean between\n",
        "if  Guess==Actual :\n",
        "  print(\"'Wow, you've guessed Correctly this time You have guessed it in {} times'\").format(count) \n",
        "  \n",
        "   # Put function that calculate the Real Number of Guesses\n",
        "  guesses "
      ],
      "execution_count": 13,
      "outputs": []
    },
    {
      "cell_type": "markdown",
      "metadata": {
        "id": "VWNf49z6WVek"
      },
      "source": [
        "### Next, Build a Code that Check on Each Guess whether its closer than the Previous Guess or not."
      ]
    },
    {
      "cell_type": "code",
      "metadata": {
        "id": "O7McDw6pbVfX"
      },
      "source": [
        "\n",
        "while(2>1):\n",
        "  num=abs(Guess - Actual)\n",
        "  if  num<5 :\n",
        "    print(' you are closer to target ')\n",
        "    else :\n",
        "  print(' you are far from the target ')\n",
        "\n"
      ],
      "execution_count": null,
      "outputs": []
    },
    {
      "cell_type": "markdown",
      "metadata": {
        "id": "v-wMuTZLahpY"
      },
      "source": [
        "#### Write a `while` loop that compares the player's guess to our number. If the player guesses correctly, break from the loop. Otherwise, tell the player if they're Closer or Farer , and continue asking for guesses.\n",
        "\n",
        "**Try to Collect All the cells you 've made above and use it here**\n",
        "\n",
        "Hint:\n",
        "\n",
        "\n",
        "* you can use the `abs()` function to find the positive difference between two numbers\n",
        "\n",
        "\n",
        "# Decomposition \n",
        "\n",
        "*   Choosing Random Number\n",
        "*   Game Intro for the User\n",
        "*   Checking on the Inserted Guess if its in boundary or not\n",
        "*   Checking on the Inserted Guess if its equal to the Random Number or Not\n",
        "*   Checking on the Inserted Guess if its Far or Close from the Previous Guess.\n",
        "\n",
        "\n",
        "\n"
      ]
    },
    {
      "cell_type": "code",
      "metadata": {
        "id": "FaifUKKUahpZ",
        "colab": {
          "base_uri": "https://localhost:8080/"
        },
        "outputId": "7a7a8f37-12fc-4101-aaf7-123c77d0bae2"
      },
      "source": [
        "# Type your Final Code here\n",
        "\n",
        "from random import randint\n",
        "\n",
        "Actual =randint(1,100)  \n",
        "num=input('Welcom Please enter Number From 1 To 100')\n",
        "Guess=int(num)\n",
        "\n",
        "count = 0\n",
        "while 2>1:\n",
        "  # Take input from user \n",
        "  if   Guess in range(1,100)  :\n",
        "    break\n",
        "   # if right then print something\n",
        "  else :\n",
        "   print('Out of Bounds')\n",
        "   continue\n",
        "count +=1\n",
        "guesses= [] #Make it an Empty List \n",
        "#Change None to Correct Boolean between\n",
        "if  Guess==Actual :\n",
        "  print(\"'Wow, you've guessed Correctly this time You have guessed it in {0} times'\").format(count)\n",
        "  done=true \n",
        "\n",
        "   # Put function that calculate the Real Number of Guesses\n",
        "guesses \n",
        "while(2>1):\n",
        " num=abs(Guess - Actual)\n",
        " if  num<5 :\n",
        "    print(' you are closer to target ')\n",
        "    \n",
        "    break\n",
        " else :\n",
        "  print(' you are far from the target ')\n",
        "  \n",
        "  break"
      ],
      "execution_count": 15,
      "outputs": [
        {
          "output_type": "stream",
          "text": [
            "Welcom Please enter Number From 1 To 10033\n",
            " you are far from the target \n"
          ],
          "name": "stdout"
        }
      ]
    },
    {
      "cell_type": "code",
      "metadata": {
        "id": "3WmFudWAl7gi"
      },
      "source": [
        "# Type here the Big Loop\n",
        "while None :\n",
        "  continue "
      ],
      "execution_count": null,
      "outputs": []
    },
    {
      "cell_type": "markdown",
      "metadata": {
        "id": "5UZ7l5wEahpb"
      },
      "source": [
        "That's it! You've just programmed your first game!\n",
        "\n",
        "In the next section we'll learn how to turn some of these repetitive actions into *functions* that can be called whenever we need them."
      ]
    },
    {
      "cell_type": "markdown",
      "metadata": {
        "id": "HlHfgyZ9ahpc"
      },
      "source": [
        "### Good Job!"
      ]
    }
  ]
}